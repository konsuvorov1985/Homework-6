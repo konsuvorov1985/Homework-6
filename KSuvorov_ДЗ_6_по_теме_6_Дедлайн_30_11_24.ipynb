{
 "cells": [
  {
   "cell_type": "code",
   "execution_count": 15,
   "id": "ad82378b-0fd1-41f4-a08c-e487d13e1e82",
   "metadata": {},
   "outputs": [
    {
     "name": "stdout",
     "output_type": "stream",
     "text": [
      "user_id category\n",
      "1840e0b9d4 Продукты\n",
      "4e4f90fcfb Электроника\n"
     ]
    }
   ],
   "source": [
    "i = 0\n",
    "dic = {}\n",
    "\n",
    "with open('purchase_log.txt','r', encoding = 'utf-8') as f:\n",
    "    for line in f:\n",
    "        line = line.strip()\n",
    "        dict_ = json.loads(line) \n",
    "        \n",
    "        key = dict_['user_id']\n",
    "        value = dict_['category']\n",
    "        dic[key] = value\n",
    "        print(key, value)\n",
    "\n",
    "        i = i+1\n",
    "        if i > 2:\n",
    "           break"
   ]
  },
  {
   "cell_type": "code",
   "execution_count": null,
   "id": "227d1650-260f-467e-8757-c45f257eac31",
   "metadata": {},
   "outputs": [],
   "source": []
  },
  {
   "cell_type": "code",
   "execution_count": null,
   "id": "0e55c352-fe7f-458c-b002-9c27562f9f97",
   "metadata": {},
   "outputs": [],
   "source": []
  }
 ],
 "metadata": {
  "kernelspec": {
   "display_name": "Python 3 (ipykernel)",
   "language": "python",
   "name": "python3"
  },
  "language_info": {
   "codemirror_mode": {
    "name": "ipython",
    "version": 3
   },
   "file_extension": ".py",
   "mimetype": "text/x-python",
   "name": "python",
   "nbconvert_exporter": "python",
   "pygments_lexer": "ipython3",
   "version": "3.12.7"
  }
 },
 "nbformat": 4,
 "nbformat_minor": 5
}
